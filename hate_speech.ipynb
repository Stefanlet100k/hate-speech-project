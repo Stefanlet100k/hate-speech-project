{
 "cells": [
  {
   "cell_type": "markdown",
   "metadata": {
    "cell_id": "ba5ae40c71bd4df6816ea1bb700e7cf0",
    "deepnote_cell_height": 1705.875,
    "deepnote_cell_type": "markdown",
    "owner_user_id": "65179a37-50c8-4e9b-9f96-a77835da183f",
    "tags": []
   },
   "source": [
    "# Rozpoznawanie mowy nienawiści #\n",
    "## przy użyciu metod i narzędzi Big Data ##\n",
    "\n",
    "\n",
    "<b> Mowa nienawiści</b> - to „wypowiedzi, które szerzą, propagują i usprawiedliwiają nienawiść rasową, ksenofobię, antysemityzm oraz inne formy nietolerancji, podważające bezpieczeństwo demokratyczne, spoistość kulturową i pluralizm\".\n",
    "\n",
    "Mowa nienawiści (ang. hate speech) jest zjawiskiem, które polega na używaniu języka w celu rozbudzenia, rozpowszechniania czy usprawiedliwiania nienawiści i dyskryminacji, jak również przemocy wobec konkretnych osób, grup osób, przedstawicieli mniejszości czy jakiegokolwiek innego podmiotu będącego „na celowniku” danej wypowiedzi. Akceptacja mowy nienawiści w wymiarze społecznym prowadzi do utrwalania się stereotypów, uprzedzeń i powodując mniejszą akceptację przedstawicieli grup ‘hejtowanych’ może także prowadzić do tzw. przestępstw z nienawiści (ang. hate crimes). Mowa nienawiści przyjmuje różne formy i dlatego istnieje trudność w jednoznacznym określeniu czym ona dokładnie jest. Mimo iż żadna z wielu powstałych dotychczas definicji tego zjawiska nie jest powszechnie akceptowana i używana, to dosyć często mowę nienawiści rozumie się zgodnie z definicją Rady Europy.\n",
    "\n",
    "<b>Przestępstwo z nienawiści — definicja Biura Instytucji Demokratycznych i Praw Człowieka Organizacji Bezpieczeństwa i Współpracy w Europie (ODIHR-OSCE) </b>\n",
    "\n",
    "Przestępstwem z nienawiści jest każde przestępstwo natury kryminalnej, wymierzone w ludzi i ich mienie, w wyniku którego ofiara lub inny cel przestępstwa, są dobierane ze względu na ich faktyczne bądź domniemane powiązanie, związek, przynależność, członkostwo lub udzielanie wsparcia grupie wyróżnianej na podstawie cech charakterystycznych wspólnych dla jej członków, takich jak faktyczna lub domniemana rasa, narodowość lub pochodzenie etniczne, język, kolor skóry, religia, płeć, wiek, niepełnosprawność fizyczna lub psychiczna, orientacja seksualna lub inne podobne cechy.\n",
    "\n",
    "Cenzura skrajnuych bądź oryginalny poglądów w interncie nie jest dobra gdyż zakłóca wolność słowa lecz używanie ogromnych serwisów internetowych jak platformy social media do propagowania wypowiedzi na pograniczu z przestępstwem niw powinno mieć miejsca. Z tego powodu wszystkie liczące się platformy używają podobnych algorytmów alby w początkowej fazie zablokować lub usunąć wpis charakteryzujący się powyższymi cechami.\n",
    "\n",
    "### Plan działania ###\n",
    "1. Pobranie zbioru danych ✅\n",
    "2. Oczyszczenie zbioru - wyodrębnienie bezpośrednich zwrotów bez interpunkcji i znaków specjalnych ✅\n",
    "3. Zbudowanie modelu ✅\n",
    "- osadzenie słów (ang. word embedding) - przetwarzanie języka naturalnego [Wikipedia](https://en.wikipedia.org/wiki/Word_embedding), [Towards Data Science](https://towardsdatascience.com/introduction-to-word-embeddings-4cf857b12edc)\n",
    "- zapisanie zdań/słów w postaci liczb (wektorów) - metoda CountVectorizer()  - [Towards Data Science](https://towardsdatascience.com/natural-language-processing-count-vectorization-with-scikit-learn-e7804269bb5e) \n",
    "4. Podział danych na treningowe i testowe ✅\n",
    "5. Uczenie modelu ✅\n",
    "  - algorytm klasyfikacji \n",
    "  - [opcjonalnie] algorytm SGD - stochastic gradiernt descent\n",
    "6. Testowanie ✅\n",
    "7. [Opcjonalnie] zbudowanie małej aplikacji webowej aby ktoś mógł sobie sprawdzić czy wypowiedź będzie uznanan za 'hate speech'.\n",
    "\n",
    "Źródła/inspiracje: \\\n",
    "[artykuł Towards DataScience - najbardziej kompletny](https://towardsdatascience.com/how-to-create-your-own-hate-tweet-detector-704508c34cd0) \\\n",
    "[artykuł 1](https://thecleverprogrammer.com/2021/07/25/hate-speech-detection-with-machine-learning/) \\\n",
    "[artykuł 2](https://thecleverprogrammer.com/2021/07/30/end-to-end-hate-speech-detection-with-python/) \\\n",
    "[dane](https://raw.githubusercontent.com/amankharwal/Website-data/master/twitter.csv)"
   ]
  },
  {
   "cell_type": "markdown",
   "metadata": {
    "cell_id": "ca1ff916f37143188fcd9d7f2ca04906",
    "deepnote_cell_height": 192.34375,
    "deepnote_cell_type": "markdown",
    "tags": []
   },
   "source": [
    "Algorytm do klasyfikacji:\n",
    "- Regresja liniowa \\\n",
    "\n",
    "Model regresji logistycznej jest modelem do obliczania prawdopodobieństw między 0 a 1. Komentarze dotyczące mowy nienawiści oznaczymy jako 1, a zwykłe zdania jako 0, nastpnie wyznaczymy współczynniki funkcji logistycznej za pomocą wektorów Tf-idf."
   ]
  },
  {
   "cell_type": "markdown",
   "metadata": {
    "cell_id": "3eb73f80f4a24950b96ca6a10e1a6414",
    "deepnote_cell_height": 46,
    "deepnote_cell_type": "markdown",
    "tags": []
   },
   "source": []
  },
  {
   "cell_type": "code",
   "execution_count": 2,
   "metadata": {
    "cell_id": "4440f32a5e854ee1b521a21b7ae29497",
    "deepnote_cell_height": 537.125,
    "deepnote_cell_type": "code",
    "deepnote_to_be_reexecuted": false,
    "execution_millis": 9,
    "execution_start": 1654333046733,
    "source_hash": "5ba22a18",
    "tags": []
   },
   "outputs": [
    {
     "name": "stderr",
     "output_type": "stream",
     "text": [
      "[nltk_data] Downloading package wordnet to\n",
      "[nltk_data]     C:\\Users\\sztef\\AppData\\Roaming\\nltk_data...\n",
      "[nltk_data]   Package wordnet is already up-to-date!\n",
      "[nltk_data] Downloading package omw-1.4 to\n",
      "[nltk_data]     C:\\Users\\sztef\\AppData\\Roaming\\nltk_data...\n",
      "[nltk_data]   Package omw-1.4 is already up-to-date!\n",
      "[nltk_data] Downloading package stopwords to\n",
      "[nltk_data]     C:\\Users\\sztef\\AppData\\Roaming\\nltk_data...\n",
      "[nltk_data]   Package stopwords is already up-to-date!\n"
     ]
    }
   ],
   "source": [
    "# import bibliotek\n",
    "import pandas as pd\n",
    "from sklearn.feature_extraction.text import CountVectorizer\n",
    "import nltk\n",
    "from nltk.stem import WordNetLemmatizer\n",
    "import re\n",
    "import numpy as np\n",
    "from nltk.tokenize import sent_tokenize, word_tokenize\n",
    "nltk.download('wordnet')\n",
    "nltk.download('omw-1.4')\n",
    "nltk.download('stopwords')\n",
    "stemmer = nltk.SnowballStemmer(\"english\")\n",
    "from nltk.corpus import stopwords\n",
    "import string\n",
    "stopword=set(stopwords.words('english'))\n",
    "from sklearn.model_selection import train_test_split\n",
    "from sklearn.tree import DecisionTreeClassifier\n",
    "from sklearn.linear_model import SGDClassifier\n",
    "from sklearn.metrics import accuracy_score, classification_report"
   ]
  },
  {
   "cell_type": "markdown",
   "metadata": {
    "cell_id": "5e99a36c8e8943899c22c087ce25b9ca",
    "deepnote_cell_height": 69.390625,
    "deepnote_cell_type": "markdown",
    "tags": []
   },
   "source": [
    "1. Pobieramy zbiór danych"
   ]
  },
  {
   "cell_type": "code",
   "execution_count": 3,
   "metadata": {
    "cell_id": "51bcb8a4f61145de80e2d5405cb8903d",
    "deepnote_cell_height": 99,
    "deepnote_cell_type": "code",
    "deepnote_to_be_reexecuted": false,
    "execution_millis": 133,
    "execution_start": 1654333053112,
    "source_hash": "a51cb7a7",
    "tags": []
   },
   "outputs": [],
   "source": [
    "url = \"https://raw.githubusercontent.com/amankharwal/Website-data/master/twitter.csv\"\n",
    "df =  pd.read_csv(url)"
   ]
  },
  {
   "cell_type": "code",
   "execution_count": 4,
   "metadata": {
    "cell_id": "258b5c2cb2734deab966f6e7d7894b30",
    "deepnote_cell_height": 329.25,
    "deepnote_cell_type": "code",
    "deepnote_output_heights": [
     232.25
    ],
    "deepnote_to_be_reexecuted": false,
    "execution_millis": 5,
    "execution_start": 1654333058039,
    "source_hash": "50c86206",
    "tags": []
   },
   "outputs": [
    {
     "data": {
      "text/plain": [
       "0        !!! RT @mayasolovely: As a woman you shouldn't...\n",
       "1        !!!!! RT @mleew17: boy dats cold...tyga dwn ba...\n",
       "2        !!!!!!! RT @UrKindOfBrand Dawg!!!! RT @80sbaby...\n",
       "3        !!!!!!!!! RT @C_G_Anderson: @viva_based she lo...\n",
       "4        !!!!!!!!!!!!! RT @ShenikaRoberts: The shit you...\n",
       "                               ...                        \n",
       "24778    you's a muthaf***in lie &#8220;@LifeAsKing: @2...\n",
       "24779    you've gone and broke the wrong heart baby, an...\n",
       "24780    young buck wanna eat!!.. dat nigguh like I ain...\n",
       "24781                youu got wild bitches tellin you lies\n",
       "24782    ~~Ruffled | Ntac Eileen Dahlia - Beautiful col...\n",
       "Name: tweet, Length: 24783, dtype: object"
      ]
     },
     "execution_count": 4,
     "metadata": {},
     "output_type": "execute_result"
    }
   ],
   "source": [
    "df['tweet']"
   ]
  },
  {
   "cell_type": "markdown",
   "metadata": {
    "cell_id": "4ed0d39c939c4c7e8d1084d1cd8f1559",
    "deepnote_cell_height": 74.78125,
    "deepnote_cell_type": "markdown",
    "tags": []
   },
   "source": [
    "Dodajemy nową kolumnę \"labels\" do naszego zbioru danych jako etykiety, które będą zawierać wartości takie jak:"
   ]
  },
  {
   "cell_type": "code",
   "execution_count": 5,
   "metadata": {
    "cell_id": "e2e4279aef6c4ba6bcbc76a0522ae975",
    "deepnote_cell_height": 690,
    "deepnote_cell_type": "code",
    "deepnote_table_loading": false,
    "deepnote_table_state": {
     "filters": [],
     "pageIndex": 9,
     "pageSize": 10,
     "sortBy": []
    },
    "deepnote_to_be_reexecuted": false,
    "execution_millis": 87,
    "execution_start": 1654333063470,
    "source_hash": "9ff481e1",
    "tags": []
   },
   "outputs": [
    {
     "data": {
      "text/html": [
       "<div>\n",
       "<style scoped>\n",
       "    .dataframe tbody tr th:only-of-type {\n",
       "        vertical-align: middle;\n",
       "    }\n",
       "\n",
       "    .dataframe tbody tr th {\n",
       "        vertical-align: top;\n",
       "    }\n",
       "\n",
       "    .dataframe thead th {\n",
       "        text-align: right;\n",
       "    }\n",
       "</style>\n",
       "<table border=\"1\" class=\"dataframe\">\n",
       "  <thead>\n",
       "    <tr style=\"text-align: right;\">\n",
       "      <th></th>\n",
       "      <th>tweet</th>\n",
       "      <th>labels</th>\n",
       "    </tr>\n",
       "  </thead>\n",
       "  <tbody>\n",
       "    <tr>\n",
       "      <th>0</th>\n",
       "      <td>!!! RT @mayasolovely: As a woman you shouldn't...</td>\n",
       "      <td>No Hate and Offensive</td>\n",
       "    </tr>\n",
       "    <tr>\n",
       "      <th>1</th>\n",
       "      <td>!!!!! RT @mleew17: boy dats cold...tyga dwn ba...</td>\n",
       "      <td>Offensive Language</td>\n",
       "    </tr>\n",
       "    <tr>\n",
       "      <th>2</th>\n",
       "      <td>!!!!!!! RT @UrKindOfBrand Dawg!!!! RT @80sbaby...</td>\n",
       "      <td>Offensive Language</td>\n",
       "    </tr>\n",
       "    <tr>\n",
       "      <th>3</th>\n",
       "      <td>!!!!!!!!! RT @C_G_Anderson: @viva_based she lo...</td>\n",
       "      <td>Offensive Language</td>\n",
       "    </tr>\n",
       "    <tr>\n",
       "      <th>4</th>\n",
       "      <td>!!!!!!!!!!!!! RT @ShenikaRoberts: The shit you...</td>\n",
       "      <td>Offensive Language</td>\n",
       "    </tr>\n",
       "    <tr>\n",
       "      <th>...</th>\n",
       "      <td>...</td>\n",
       "      <td>...</td>\n",
       "    </tr>\n",
       "    <tr>\n",
       "      <th>24778</th>\n",
       "      <td>you's a muthaf***in lie &amp;#8220;@LifeAsKing: @2...</td>\n",
       "      <td>Offensive Language</td>\n",
       "    </tr>\n",
       "    <tr>\n",
       "      <th>24779</th>\n",
       "      <td>you've gone and broke the wrong heart baby, an...</td>\n",
       "      <td>No Hate and Offensive</td>\n",
       "    </tr>\n",
       "    <tr>\n",
       "      <th>24780</th>\n",
       "      <td>young buck wanna eat!!.. dat nigguh like I ain...</td>\n",
       "      <td>Offensive Language</td>\n",
       "    </tr>\n",
       "    <tr>\n",
       "      <th>24781</th>\n",
       "      <td>youu got wild bitches tellin you lies</td>\n",
       "      <td>Offensive Language</td>\n",
       "    </tr>\n",
       "    <tr>\n",
       "      <th>24782</th>\n",
       "      <td>~~Ruffled | Ntac Eileen Dahlia - Beautiful col...</td>\n",
       "      <td>No Hate and Offensive</td>\n",
       "    </tr>\n",
       "  </tbody>\n",
       "</table>\n",
       "<p>24783 rows × 2 columns</p>\n",
       "</div>"
      ],
      "text/plain": [
       "                                                   tweet  \\\n",
       "0      !!! RT @mayasolovely: As a woman you shouldn't...   \n",
       "1      !!!!! RT @mleew17: boy dats cold...tyga dwn ba...   \n",
       "2      !!!!!!! RT @UrKindOfBrand Dawg!!!! RT @80sbaby...   \n",
       "3      !!!!!!!!! RT @C_G_Anderson: @viva_based she lo...   \n",
       "4      !!!!!!!!!!!!! RT @ShenikaRoberts: The shit you...   \n",
       "...                                                  ...   \n",
       "24778  you's a muthaf***in lie &#8220;@LifeAsKing: @2...   \n",
       "24779  you've gone and broke the wrong heart baby, an...   \n",
       "24780  young buck wanna eat!!.. dat nigguh like I ain...   \n",
       "24781              youu got wild bitches tellin you lies   \n",
       "24782  ~~Ruffled | Ntac Eileen Dahlia - Beautiful col...   \n",
       "\n",
       "                      labels  \n",
       "0      No Hate and Offensive  \n",
       "1         Offensive Language  \n",
       "2         Offensive Language  \n",
       "3         Offensive Language  \n",
       "4         Offensive Language  \n",
       "...                      ...  \n",
       "24778     Offensive Language  \n",
       "24779  No Hate and Offensive  \n",
       "24780     Offensive Language  \n",
       "24781     Offensive Language  \n",
       "24782  No Hate and Offensive  \n",
       "\n",
       "[24783 rows x 2 columns]"
      ]
     },
     "execution_count": 5,
     "metadata": {},
     "output_type": "execute_result"
    }
   ],
   "source": [
    "df[\"labels\"] = df[\"class\"].map({0: \"Hate Speech\", \n",
    "                                    1: \"Offensive Language\", \n",
    "                                    2: \"No Hate and Offensive\"})\n",
    "\n",
    "data = df[[\"tweet\", \"labels\"]]\n",
    "data"
   ]
  },
  {
   "cell_type": "markdown",
   "metadata": {
    "cell_id": "1e30ebe5255f4db39bc1f72533abb7c1",
    "deepnote_cell_height": 69.390625,
    "deepnote_cell_type": "markdown",
    "owner_user_id": "5dad7f9f-a271-43d3-af66-36a1c4634fa3",
    "tags": []
   },
   "source": [
    "2. Oczyszczamy zbiór danych"
   ]
  },
  {
   "cell_type": "code",
   "execution_count": 6,
   "metadata": {
    "cell_id": "e818131eaa5f454093e352c706f10df2",
    "deepnote_cell_height": 581.25,
    "deepnote_cell_type": "code",
    "deepnote_output_heights": [
     232.25
    ],
    "deepnote_to_be_reexecuted": false,
    "execution_millis": 4766,
    "execution_start": 1654333068123,
    "source_hash": "e8cb3f4",
    "tags": []
   },
   "outputs": [
    {
     "data": {
      "text/plain": [
       "0        mayasolov woman complain clean hous amp man al...\n",
       "1        mleew boy dat coldtyga dwn bad cuffin dat hoe ...\n",
       "2        urkindofbrand dawg sbabylif ever fuck bitch st...\n",
       "3                      cganderson vivabas look like tranni\n",
       "4        shenikarobert shit hear might true might faker...\n",
       "                               ...                        \n",
       "24778    you muthafin lie lifeask pearl coreyemanuel ri...\n",
       "24779         gone broke wrong heababi drove redneck crazi\n",
       "24780    young buck wanna eat dat nigguh like aint fuck...\n",
       "24781                       youu got wild bitch tellin lie\n",
       "24782    ruffl  ntac eileen dahlia - beauti color combi...\n",
       "Name: tweet, Length: 24783, dtype: object"
      ]
     },
     "execution_count": 6,
     "metadata": {},
     "output_type": "execute_result"
    }
   ],
   "source": [
    "def clean(text):\n",
    "    text = str(text).lower()\n",
    "    text = re.sub(\"[!@?~_*,:.&#;|,]\", \"\", text)\n",
    "    text = re.sub('^\\s+', '', text)\n",
    "    text = re.sub('^\\t', '', text)\n",
    "    text = re.sub('[0-9]', '', text)\n",
    "    text = re.sub('rt ', '', text) # sunięcie symbolu rt (retweet)\n",
    "    text = [word for word in text.split(' ') if word not in stopword]\n",
    "    text=\" \".join(text)\n",
    "    text = [stemmer.stem(word) for word in text.split(' ')]\n",
    "    text=\" \".join(text)\n",
    "    return text\n",
    "\n",
    "clean_tweets = data[\"tweet\"].apply(clean)\n",
    "clean_tweets"
   ]
  },
  {
   "cell_type": "markdown",
   "metadata": {
    "cell_id": "277d82e70f7b407ea8bd6489a4a46fd7",
    "deepnote_cell_height": 69.390625,
    "deepnote_cell_type": "markdown",
    "tags": []
   },
   "source": [
    "4. Dzielimy dane na treningowe (70%) i testujące (30%)"
   ]
  },
  {
   "cell_type": "code",
   "execution_count": 7,
   "metadata": {
    "cell_id": "0d4bc530d5e54009a112f19bb974d28a",
    "deepnote_cell_height": 225,
    "deepnote_cell_type": "code",
    "deepnote_to_be_reexecuted": false,
    "execution_millis": 447,
    "execution_start": 1654333076149,
    "source_hash": "ee9c1545",
    "tags": []
   },
   "outputs": [],
   "source": [
    "x = np.array(clean_tweets)\n",
    "y = np.array(data[\"labels\"])\n",
    "\n",
    "cv = CountVectorizer()\n",
    "\n",
    "X = cv.fit_transform(x) #dopasowujemy dane\n",
    "X\n",
    "\n",
    "X_train, X_test, y_train, y_test = train_test_split(X, y, test_size=0.3, random_state=42)"
   ]
  },
  {
   "cell_type": "markdown",
   "metadata": {
    "cell_id": "8db2e51975aa49429ae661a189d64933",
    "deepnote_cell_height": 91.78125,
    "deepnote_cell_type": "markdown",
    "tags": []
   },
   "source": [
    "5. Trenujemy nasz model uczenia maszynowego do rozpoznawania mowy nienawiści"
   ]
  },
  {
   "cell_type": "code",
   "execution_count": 8,
   "metadata": {
    "cell_id": "47337de48ee14c8fbf68f06f6e5d79de",
    "deepnote_cell_height": 193.34375,
    "deepnote_cell_type": "code",
    "deepnote_output_heights": [
     60.34375
    ],
    "deepnote_to_be_reexecuted": false,
    "execution_millis": 3227,
    "execution_start": 1654333086284,
    "source_hash": "2d49000",
    "tags": []
   },
   "outputs": [
    {
     "data": {
      "text/html": [
       "<style>#sk-container-id-1 {color: black;background-color: white;}#sk-container-id-1 pre{padding: 0;}#sk-container-id-1 div.sk-toggleable {background-color: white;}#sk-container-id-1 label.sk-toggleable__label {cursor: pointer;display: block;width: 100%;margin-bottom: 0;padding: 0.3em;box-sizing: border-box;text-align: center;}#sk-container-id-1 label.sk-toggleable__label-arrow:before {content: \"▸\";float: left;margin-right: 0.25em;color: #696969;}#sk-container-id-1 label.sk-toggleable__label-arrow:hover:before {color: black;}#sk-container-id-1 div.sk-estimator:hover label.sk-toggleable__label-arrow:before {color: black;}#sk-container-id-1 div.sk-toggleable__content {max-height: 0;max-width: 0;overflow: hidden;text-align: left;background-color: #f0f8ff;}#sk-container-id-1 div.sk-toggleable__content pre {margin: 0.2em;color: black;border-radius: 0.25em;background-color: #f0f8ff;}#sk-container-id-1 input.sk-toggleable__control:checked~div.sk-toggleable__content {max-height: 200px;max-width: 100%;overflow: auto;}#sk-container-id-1 input.sk-toggleable__control:checked~label.sk-toggleable__label-arrow:before {content: \"▾\";}#sk-container-id-1 div.sk-estimator input.sk-toggleable__control:checked~label.sk-toggleable__label {background-color: #d4ebff;}#sk-container-id-1 div.sk-label input.sk-toggleable__control:checked~label.sk-toggleable__label {background-color: #d4ebff;}#sk-container-id-1 input.sk-hidden--visually {border: 0;clip: rect(1px 1px 1px 1px);clip: rect(1px, 1px, 1px, 1px);height: 1px;margin: -1px;overflow: hidden;padding: 0;position: absolute;width: 1px;}#sk-container-id-1 div.sk-estimator {font-family: monospace;background-color: #f0f8ff;border: 1px dotted black;border-radius: 0.25em;box-sizing: border-box;margin-bottom: 0.5em;}#sk-container-id-1 div.sk-estimator:hover {background-color: #d4ebff;}#sk-container-id-1 div.sk-parallel-item::after {content: \"\";width: 100%;border-bottom: 1px solid gray;flex-grow: 1;}#sk-container-id-1 div.sk-label:hover label.sk-toggleable__label {background-color: #d4ebff;}#sk-container-id-1 div.sk-serial::before {content: \"\";position: absolute;border-left: 1px solid gray;box-sizing: border-box;top: 0;bottom: 0;left: 50%;z-index: 0;}#sk-container-id-1 div.sk-serial {display: flex;flex-direction: column;align-items: center;background-color: white;padding-right: 0.2em;padding-left: 0.2em;position: relative;}#sk-container-id-1 div.sk-item {position: relative;z-index: 1;}#sk-container-id-1 div.sk-parallel {display: flex;align-items: stretch;justify-content: center;background-color: white;position: relative;}#sk-container-id-1 div.sk-item::before, #sk-container-id-1 div.sk-parallel-item::before {content: \"\";position: absolute;border-left: 1px solid gray;box-sizing: border-box;top: 0;bottom: 0;left: 50%;z-index: -1;}#sk-container-id-1 div.sk-parallel-item {display: flex;flex-direction: column;z-index: 1;position: relative;background-color: white;}#sk-container-id-1 div.sk-parallel-item:first-child::after {align-self: flex-end;width: 50%;}#sk-container-id-1 div.sk-parallel-item:last-child::after {align-self: flex-start;width: 50%;}#sk-container-id-1 div.sk-parallel-item:only-child::after {width: 0;}#sk-container-id-1 div.sk-dashed-wrapped {border: 1px dashed gray;margin: 0 0.4em 0.5em 0.4em;box-sizing: border-box;padding-bottom: 0.4em;background-color: white;}#sk-container-id-1 div.sk-label label {font-family: monospace;font-weight: bold;display: inline-block;line-height: 1.2em;}#sk-container-id-1 div.sk-label-container {text-align: center;}#sk-container-id-1 div.sk-container {/* jupyter's `normalize.less` sets `[hidden] { display: none; }` but bootstrap.min.css set `[hidden] { display: none !important; }` so we also need the `!important` here to be able to override the default hidden behavior on the sphinx rendered scikit-learn.org. See: https://github.com/scikit-learn/scikit-learn/issues/21755 */display: inline-block !important;position: relative;}#sk-container-id-1 div.sk-text-repr-fallback {display: none;}</style><div id=\"sk-container-id-1\" class=\"sk-top-container\"><div class=\"sk-text-repr-fallback\"><pre>DecisionTreeClassifier()</pre><b>In a Jupyter environment, please rerun this cell to show the HTML representation or trust the notebook. <br />On GitHub, the HTML representation is unable to render, please try loading this page with nbviewer.org.</b></div><div class=\"sk-container\" hidden><div class=\"sk-item\"><div class=\"sk-estimator sk-toggleable\"><input class=\"sk-toggleable__control sk-hidden--visually\" id=\"sk-estimator-id-1\" type=\"checkbox\" checked><label for=\"sk-estimator-id-1\" class=\"sk-toggleable__label sk-toggleable__label-arrow\">DecisionTreeClassifier</label><div class=\"sk-toggleable__content\"><pre>DecisionTreeClassifier()</pre></div></div></div></div></div>"
      ],
      "text/plain": [
       "DecisionTreeClassifier()"
      ]
     },
     "execution_count": 8,
     "metadata": {},
     "output_type": "execute_result"
    }
   ],
   "source": [
    "clf = DecisionTreeClassifier()\n",
    "clf.fit(X_train,y_train)\n"
   ]
  },
  {
   "cell_type": "code",
   "execution_count": 9,
   "metadata": {
    "cell_id": "d3440c20560c48888f8f31d46b6935f9",
    "deepnote_cell_height": 174.5625,
    "deepnote_cell_type": "code",
    "deepnote_output_heights": [
     59.5625
    ],
    "deepnote_to_be_reexecuted": false,
    "execution_millis": 14,
    "execution_start": 1654331067204,
    "source_hash": "37de53f9",
    "tags": []
   },
   "outputs": [
    {
     "data": {
      "text/plain": [
       "array(['Offensive Language', 'Offensive Language', 'Offensive Language',\n",
       "       ..., 'No Hate and Offensive', 'Offensive Language', 'Hate Speech'],\n",
       "      dtype=object)"
      ]
     },
     "execution_count": 9,
     "metadata": {},
     "output_type": "execute_result"
    }
   ],
   "source": [
    "y_pred = clf.predict(X_test)\n",
    "y_pred"
   ]
  },
  {
   "cell_type": "markdown",
   "metadata": {
    "cell_id": "c15dfc28643342c683d11434cefae067",
    "deepnote_cell_height": 69.390625,
    "deepnote_cell_type": "markdown",
    "tags": []
   },
   "source": [
    "6. Testujemy nasz model"
   ]
  },
  {
   "cell_type": "code",
   "execution_count": 10,
   "metadata": {
    "cell_id": "38c0fb7af91445b58a89ba3dc51cf309",
    "deepnote_cell_height": 654,
    "deepnote_cell_type": "code",
    "deepnote_to_be_reexecuted": false,
    "execution_millis": 44,
    "execution_start": 1654331067221,
    "source_hash": "fa5f0e6a",
    "tags": []
   },
   "outputs": [
    {
     "data": {
      "text/html": [
       "<div>\n",
       "<style scoped>\n",
       "    .dataframe tbody tr th:only-of-type {\n",
       "        vertical-align: middle;\n",
       "    }\n",
       "\n",
       "    .dataframe tbody tr th {\n",
       "        vertical-align: top;\n",
       "    }\n",
       "\n",
       "    .dataframe thead th {\n",
       "        text-align: right;\n",
       "    }\n",
       "</style>\n",
       "<table border=\"1\" class=\"dataframe\">\n",
       "  <thead>\n",
       "    <tr style=\"text-align: right;\">\n",
       "      <th></th>\n",
       "      <th>0</th>\n",
       "      <th>y pred</th>\n",
       "    </tr>\n",
       "  </thead>\n",
       "  <tbody>\n",
       "    <tr>\n",
       "      <th>0</th>\n",
       "      <td>Offensive Language</td>\n",
       "      <td>Offensive Language</td>\n",
       "    </tr>\n",
       "    <tr>\n",
       "      <th>1</th>\n",
       "      <td>Offensive Language</td>\n",
       "      <td>Offensive Language</td>\n",
       "    </tr>\n",
       "    <tr>\n",
       "      <th>2</th>\n",
       "      <td>No Hate and Offensive</td>\n",
       "      <td>Offensive Language</td>\n",
       "    </tr>\n",
       "    <tr>\n",
       "      <th>3</th>\n",
       "      <td>Offensive Language</td>\n",
       "      <td>Hate Speech</td>\n",
       "    </tr>\n",
       "    <tr>\n",
       "      <th>4</th>\n",
       "      <td>Offensive Language</td>\n",
       "      <td>Offensive Language</td>\n",
       "    </tr>\n",
       "    <tr>\n",
       "      <th>...</th>\n",
       "      <td>...</td>\n",
       "      <td>...</td>\n",
       "    </tr>\n",
       "    <tr>\n",
       "      <th>7430</th>\n",
       "      <td>Offensive Language</td>\n",
       "      <td>Offensive Language</td>\n",
       "    </tr>\n",
       "    <tr>\n",
       "      <th>7431</th>\n",
       "      <td>Offensive Language</td>\n",
       "      <td>Offensive Language</td>\n",
       "    </tr>\n",
       "    <tr>\n",
       "      <th>7432</th>\n",
       "      <td>Offensive Language</td>\n",
       "      <td>No Hate and Offensive</td>\n",
       "    </tr>\n",
       "    <tr>\n",
       "      <th>7433</th>\n",
       "      <td>Offensive Language</td>\n",
       "      <td>Offensive Language</td>\n",
       "    </tr>\n",
       "    <tr>\n",
       "      <th>7434</th>\n",
       "      <td>Offensive Language</td>\n",
       "      <td>Hate Speech</td>\n",
       "    </tr>\n",
       "  </tbody>\n",
       "</table>\n",
       "<p>7435 rows × 2 columns</p>\n",
       "</div>"
      ],
      "text/plain": [
       "                          0                 y pred\n",
       "0        Offensive Language     Offensive Language\n",
       "1        Offensive Language     Offensive Language\n",
       "2     No Hate and Offensive     Offensive Language\n",
       "3        Offensive Language            Hate Speech\n",
       "4        Offensive Language     Offensive Language\n",
       "...                     ...                    ...\n",
       "7430     Offensive Language     Offensive Language\n",
       "7431     Offensive Language     Offensive Language\n",
       "7432     Offensive Language  No Hate and Offensive\n",
       "7433     Offensive Language     Offensive Language\n",
       "7434     Offensive Language            Hate Speech\n",
       "\n",
       "[7435 rows x 2 columns]"
      ]
     },
     "execution_count": 10,
     "metadata": {},
     "output_type": "execute_result"
    }
   ],
   "source": [
    "# zestawnienie wyników w ramce danych\n",
    "results = pd.DataFrame(y_test)\n",
    "results['y pred'] = y_pred\n",
    "results"
   ]
  },
  {
   "cell_type": "code",
   "execution_count": 11,
   "metadata": {
    "cell_id": "3b7fb4432dbe49b0a44ee9d638f969b0",
    "deepnote_cell_height": 148.1875,
    "deepnote_cell_type": "code",
    "deepnote_to_be_reexecuted": false,
    "execution_millis": 9,
    "execution_start": 1654331067270,
    "source_hash": "3d8d54e5",
    "tags": []
   },
   "outputs": [
    {
     "name": "stdout",
     "output_type": "stream",
     "text": [
      "['Offensive Language']\n"
     ]
    }
   ],
   "source": [
    "sample = \"I will kill you nigga\"\n",
    "data = cv.transform([sample]).toarray()\n",
    "print(clf.predict(data))"
   ]
  },
  {
   "cell_type": "markdown",
   "metadata": {
    "cell_id": "b61033d1cb2e4565990165b8322f16aa",
    "deepnote_cell_height": 94,
    "deepnote_cell_type": "markdown",
    "tags": []
   },
   "source": [
    "### Zastosowanie klasyfikatora SGD - stochastic gradient descent ###"
   ]
  },
  {
   "cell_type": "code",
   "execution_count": 12,
   "metadata": {
    "cell_id": "5832204d84c240f8aba9230590a9a73e",
    "deepnote_cell_height": 210.5625,
    "deepnote_cell_type": "code",
    "deepnote_output_heights": [
     59.5625
    ],
    "deepnote_to_be_reexecuted": false,
    "execution_millis": 209,
    "execution_start": 1654331067286,
    "source_hash": "e243b8f8",
    "tags": []
   },
   "outputs": [
    {
     "data": {
      "text/plain": [
       "array(['Offensive Language', 'Offensive Language', 'Offensive Language',\n",
       "       ..., 'No Hate and Offensive', 'Offensive Language',\n",
       "       'Offensive Language'], dtype='<U21')"
      ]
     },
     "execution_count": 12,
     "metadata": {},
     "output_type": "execute_result"
    }
   ],
   "source": [
    "clf1 = SGDClassifier()\n",
    "clf1.fit(X_train,y_train)\n",
    "y_pred1 = clf1.predict(X_test)\n",
    "y_pred1"
   ]
  },
  {
   "cell_type": "code",
   "execution_count": 13,
   "metadata": {
    "cell_id": "5687c067c0284b0492eddd39723474a6",
    "deepnote_cell_height": 654,
    "deepnote_cell_type": "code",
    "deepnote_to_be_reexecuted": false,
    "execution_millis": 116,
    "execution_start": 1654331067500,
    "source_hash": "c35ec6a",
    "tags": []
   },
   "outputs": [
    {
     "data": {
      "text/html": [
       "<div>\n",
       "<style scoped>\n",
       "    .dataframe tbody tr th:only-of-type {\n",
       "        vertical-align: middle;\n",
       "    }\n",
       "\n",
       "    .dataframe tbody tr th {\n",
       "        vertical-align: top;\n",
       "    }\n",
       "\n",
       "    .dataframe thead th {\n",
       "        text-align: right;\n",
       "    }\n",
       "</style>\n",
       "<table border=\"1\" class=\"dataframe\">\n",
       "  <thead>\n",
       "    <tr style=\"text-align: right;\">\n",
       "      <th></th>\n",
       "      <th>0</th>\n",
       "      <th>y pred tree</th>\n",
       "      <th>y pred SGD</th>\n",
       "    </tr>\n",
       "  </thead>\n",
       "  <tbody>\n",
       "    <tr>\n",
       "      <th>0</th>\n",
       "      <td>Offensive Language</td>\n",
       "      <td>Offensive Language</td>\n",
       "      <td>Offensive Language</td>\n",
       "    </tr>\n",
       "    <tr>\n",
       "      <th>1</th>\n",
       "      <td>Offensive Language</td>\n",
       "      <td>Offensive Language</td>\n",
       "      <td>Offensive Language</td>\n",
       "    </tr>\n",
       "    <tr>\n",
       "      <th>2</th>\n",
       "      <td>No Hate and Offensive</td>\n",
       "      <td>Offensive Language</td>\n",
       "      <td>Offensive Language</td>\n",
       "    </tr>\n",
       "    <tr>\n",
       "      <th>3</th>\n",
       "      <td>Offensive Language</td>\n",
       "      <td>Hate Speech</td>\n",
       "      <td>Offensive Language</td>\n",
       "    </tr>\n",
       "    <tr>\n",
       "      <th>4</th>\n",
       "      <td>Offensive Language</td>\n",
       "      <td>Offensive Language</td>\n",
       "      <td>Offensive Language</td>\n",
       "    </tr>\n",
       "    <tr>\n",
       "      <th>...</th>\n",
       "      <td>...</td>\n",
       "      <td>...</td>\n",
       "      <td>...</td>\n",
       "    </tr>\n",
       "    <tr>\n",
       "      <th>7430</th>\n",
       "      <td>Offensive Language</td>\n",
       "      <td>Offensive Language</td>\n",
       "      <td>Offensive Language</td>\n",
       "    </tr>\n",
       "    <tr>\n",
       "      <th>7431</th>\n",
       "      <td>Offensive Language</td>\n",
       "      <td>Offensive Language</td>\n",
       "      <td>Offensive Language</td>\n",
       "    </tr>\n",
       "    <tr>\n",
       "      <th>7432</th>\n",
       "      <td>Offensive Language</td>\n",
       "      <td>No Hate and Offensive</td>\n",
       "      <td>No Hate and Offensive</td>\n",
       "    </tr>\n",
       "    <tr>\n",
       "      <th>7433</th>\n",
       "      <td>Offensive Language</td>\n",
       "      <td>Offensive Language</td>\n",
       "      <td>Offensive Language</td>\n",
       "    </tr>\n",
       "    <tr>\n",
       "      <th>7434</th>\n",
       "      <td>Offensive Language</td>\n",
       "      <td>Hate Speech</td>\n",
       "      <td>Offensive Language</td>\n",
       "    </tr>\n",
       "  </tbody>\n",
       "</table>\n",
       "<p>7435 rows × 3 columns</p>\n",
       "</div>"
      ],
      "text/plain": [
       "                          0            y pred tree             y pred SGD\n",
       "0        Offensive Language     Offensive Language     Offensive Language\n",
       "1        Offensive Language     Offensive Language     Offensive Language\n",
       "2     No Hate and Offensive     Offensive Language     Offensive Language\n",
       "3        Offensive Language            Hate Speech     Offensive Language\n",
       "4        Offensive Language     Offensive Language     Offensive Language\n",
       "...                     ...                    ...                    ...\n",
       "7430     Offensive Language     Offensive Language     Offensive Language\n",
       "7431     Offensive Language     Offensive Language     Offensive Language\n",
       "7432     Offensive Language  No Hate and Offensive  No Hate and Offensive\n",
       "7433     Offensive Language     Offensive Language     Offensive Language\n",
       "7434     Offensive Language            Hate Speech     Offensive Language\n",
       "\n",
       "[7435 rows x 3 columns]"
      ]
     },
     "execution_count": 13,
     "metadata": {},
     "output_type": "execute_result"
    }
   ],
   "source": [
    "results = pd.DataFrame(y_test)\n",
    "results['y pred tree'] = y_pred\n",
    "results['y pred SGD'] = y_pred1\n",
    "results"
   ]
  },
  {
   "cell_type": "code",
   "execution_count": 14,
   "metadata": {
    "cell_id": "a2bac950d0474ec3b1ac0388bf94bcd5",
    "deepnote_cell_height": 186.375,
    "deepnote_cell_type": "code",
    "deepnote_to_be_reexecuted": false,
    "execution_millis": 3,
    "execution_start": 1654331067614,
    "source_hash": "3d00b254",
    "tags": []
   },
   "outputs": [
    {
     "name": "stdout",
     "output_type": "stream",
     "text": [
      "accuracy of Decision Tree Classifier:  87.16 %\n",
      "accuracy of Stohastic Gradient Descent:  89.41 %\n"
     ]
    }
   ],
   "source": [
    "accu_tree = accuracy_score(y_test, y_pred)\n",
    "accu_sgd = accuracy_score(y_test, y_pred1)\n",
    "print(\"accuracy of Decision Tree Classifier: \", round(accu_tree * 100, 2),\"%\")\n",
    "print(\"accuracy of Stohastic Gradient Descent: \", round(accu_sgd * 100, 2),\"%\")"
   ]
  },
  {
   "cell_type": "code",
   "execution_count": 15,
   "metadata": {
    "cell_id": "5d69088f69be4b5a97e3c553ed41467d",
    "deepnote_cell_height": 549.75,
    "deepnote_cell_type": "code",
    "deepnote_to_be_reexecuted": false,
    "execution_millis": 430,
    "execution_start": 1654331067615,
    "source_hash": "ec89dff0",
    "tags": []
   },
   "outputs": [
    {
     "name": "stdout",
     "output_type": "stream",
     "text": [
      "                       precision    recall  f1-score   support\n",
      "\n",
      "          Hate Speech       0.36      0.40      0.38       427\n",
      "No Hate and Offensive       0.81      0.82      0.82      1261\n",
      "   Offensive Language       0.93      0.92      0.92      5747\n",
      "\n",
      "             accuracy                           0.87      7435\n",
      "            macro avg       0.70      0.71      0.70      7435\n",
      "         weighted avg       0.88      0.87      0.87      7435\n",
      "\n",
      "                       precision    recall  f1-score   support\n",
      "\n",
      "          Hate Speech       0.43      0.23      0.30       427\n",
      "No Hate and Offensive       0.82      0.88      0.85      1261\n",
      "   Offensive Language       0.93      0.95      0.94      5747\n",
      "\n",
      "             accuracy                           0.89      7435\n",
      "            macro avg       0.73      0.69      0.70      7435\n",
      "         weighted avg       0.88      0.89      0.89      7435\n",
      "\n"
     ]
    }
   ],
   "source": [
    "cr = classification_report(y_test, y_pred)\n",
    "cr1 = classification_report(y_test, y_pred1)\n",
    "print(cr)\n",
    "print(cr1)"
   ]
  },
  {
   "cell_type": "code",
   "execution_count": 16,
   "metadata": {},
   "outputs": [],
   "source": [
    "import pickle"
   ]
  },
  {
   "cell_type": "code",
   "execution_count": 16,
   "metadata": {},
   "outputs": [],
   "source": [
    "pickle.dump(clf1, open('model.pkl','wb'))"
   ]
  },
  {
   "cell_type": "code",
   "execution_count": 19,
   "metadata": {},
   "outputs": [],
   "source": [
    "pickle.dump(cv, open('cv.pkl', 'wb'))"
   ]
  },
  {
   "cell_type": "markdown",
   "metadata": {
    "created_in_deepnote_cell": true,
    "deepnote_cell_type": "markdown",
    "tags": []
   },
   "source": [
    "<a style='text-decoration:none;line-height:16px;display:flex;color:#5B5B62;padding:10px;justify-content:end;' href='https://deepnote.com?utm_source=created-in-deepnote-cell&projectId=249ee95b-a831-4e4f-8154-f40a957b292c' target=\"_blank\">\n",
    "<img alt='Created in deepnote.com' style='display:inline;max-height:16px;margin:0px;margin-right:7.5px;' src='data:image/svg+xml;base64,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' > </img>\n",
    "Created in <span style='font-weight:600;margin-left:4px;'>Deepnote</span></a>"
   ]
  }
 ],
 "metadata": {
  "deepnote": {},
  "deepnote_execution_queue": [],
  "deepnote_notebook_id": "70fa7410-eeba-438d-9a59-71953c155a33",
  "kernelspec": {
   "display_name": "Python 3 (ipykernel)",
   "language": "python",
   "name": "python3"
  },
  "language_info": {
   "codemirror_mode": {
    "name": "ipython",
    "version": 3
   },
   "file_extension": ".py",
   "mimetype": "text/x-python",
   "name": "python",
   "nbconvert_exporter": "python",
   "pygments_lexer": "ipython3",
   "version": "3.9.12"
  }
 },
 "nbformat": 4,
 "nbformat_minor": 4
}
